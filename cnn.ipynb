{
 "cells": [
  {
   "cell_type": "code",
   "execution_count": 1,
   "metadata": {
    "collapsed": true
   },
   "outputs": [],
   "source": [
    "import torch \n",
    "import torch.nn as nn\n",
    "import torchvision.datasets as dsets\n",
    "import torchvision.transforms as transforms\n",
    "from torchvision.transforms import ToTensor\n",
    "from torch.autograd import Variable"
   ]
  },
  {
   "cell_type": "code",
   "execution_count": 2,
   "metadata": {
    "collapsed": true
   },
   "outputs": [],
   "source": [
    "# Hyper Parameters\n",
    "num_epochs = 5\n",
    "batch_size = 100\n",
    "learning_rate = 0.001"
   ]
  },
  {
   "cell_type": "code",
   "execution_count": 3,
   "metadata": {
    "collapsed": false
   },
   "outputs": [
    {
     "name": "stdout",
     "output_type": "stream",
     "text": [
      "Downloading http://yann.lecun.com/exdb/mnist/train-images-idx3-ubyte.gz\n",
      "Downloading http://yann.lecun.com/exdb/mnist/train-labels-idx1-ubyte.gz\n",
      "Downloading http://yann.lecun.com/exdb/mnist/t10k-images-idx3-ubyte.gz\n",
      "Downloading http://yann.lecun.com/exdb/mnist/t10k-labels-idx1-ubyte.gz\n",
      "Processing\n",
      "Done!\n"
     ]
    }
   ],
   "source": [
    "# MNIST Dataset\n",
    "train_dataset = dsets.MNIST(root='../data/',\n",
    "                            train=True, \n",
    "                            transform=transforms.ToTensor(),\n",
    "                            download=True)\n",
    "\n",
    "test_dataset = dsets.MNIST(root='../data/',\n",
    "                           train=False, \n",
    "                           transform=transforms.ToTensor())"
   ]
  },
  {
   "cell_type": "code",
   "execution_count": null,
   "metadata": {
    "collapsed": true
   },
   "outputs": [],
   "source": [
    "# OUR PROJECT!!\n",
    "\n",
    "#https://discuss.pytorch.org/t/questions-about-imagefolder/774/6\n",
    "#http://pytorch.org/docs/data.html\n",
    "\n",
    "#https://github.com/pytorch/vision/tree/master/torchvision/models MODELS!!\n",
    "\n",
    "train = dsets.ImageFolder(root=\"/Users/leighharton/Documents/MSDS/CS_6501/project_test\", transform=ToTensor())\n",
    "\n",
    "train_VIST = dsets.ImageFolder(root = 'directory', \n",
    "                               train = True,\n",
    "                               transform = ToTensor())\n",
    "\n",
    "test_VIST = dsets.ImageFolder(root = 'directory', \n",
    "                              train = False,\n",
    "                              transform = ToTensor())\n",
    "\n",
    "# x,y = data[0] # x is the first image as PIL, y is that images class label\n",
    "# features = 2D, targets = 1D\n",
    "train = torch.utils.TensorDataset(features, targets)"
   ]
  },
  {
   "cell_type": "code",
   "execution_count": 9,
   "metadata": {
    "collapsed": true
   },
   "outputs": [],
   "source": [
    "# Data Loader (Input Pipeline)\n",
    "train_loader = torch.utils.data.DataLoader(dataset=train_dataset,\n",
    "                                           batch_size=batch_size, \n",
    "                                           shuffle=True)\n",
    "\n",
    "test_loader = torch.utils.data.DataLoader(dataset=test_dataset,\n",
    "                                          batch_size=batch_size, \n",
    "                                          shuffle=False)"
   ]
  },
  {
   "cell_type": "code",
   "execution_count": null,
   "metadata": {
    "collapsed": true
   },
   "outputs": [],
   "source": [
    "# OUR PROJECT!!\n",
    "trainVIST_loader = torch.utils.data.DataLoader(dataset=train_VIST,\n",
    "                                               batch_size=2, \n",
    "                                               shuffle=True)\n",
    "\n",
    "testVIST_loader = torch.utils.data.DataLoader(dataset=test_VIST,\n",
    "                                               batch_size=2, \n",
    "                                               shuffle=False)"
   ]
  },
  {
   "cell_type": "code",
   "execution_count": null,
   "metadata": {
    "collapsed": true
   },
   "outputs": [],
   "source": [
    "# CNN Model (2 conv layer)\n",
    "class CNN(nn.Module):\n",
    "    def __init__(self):\n",
    "        super(CNN, self).__init__()\n",
    "        self.layer1 = nn.Sequential(\n",
    "            nn.Conv2d(1, 16, kernel_size=5, padding=2),\n",
    "            nn.BatchNorm2d(16),\n",
    "            nn.ReLU(),\n",
    "            nn.MaxPool2d(2))\n",
    "        self.layer2 = nn.Sequential(\n",
    "            nn.Conv2d(16, 32, kernel_size=5, padding=2),\n",
    "            nn.BatchNorm2d(32),\n",
    "            nn.ReLU(),\n",
    "            nn.MaxPool2d(2))\n",
    "        self.fc = nn.Linear(7*7*32, 10)\n",
    "        \n",
    "    def forward(self, x):\n",
    "        out = self.layer1(x)\n",
    "        out = self.layer2(out)\n",
    "        out = out.view(out.size(0), -1)\n",
    "        out = self.fc(out)\n",
    "        return out"
   ]
  },
  {
   "cell_type": "code",
   "execution_count": 10,
   "metadata": {
    "collapsed": true
   },
   "outputs": [],
   "source": [
    "# OUR PROJECT?\n",
    "# CNN Model (2 conv layer)\n",
    "class CNN(nn.Module):\n",
    "    def __init__(self):\n",
    "        super(CNN, self).__init__()\n",
    "        self.layer1 = nn.Sequential(\n",
    "            nn.Conv2d(1, 96, kernel_size=11, padding=2), #in channels, out channels\n",
    "            nn.BatchNorm2d(16),\n",
    "            nn.ReLU(),\n",
    "            nn.MaxPool2d(3, stride=2))\n",
    "        self.layer2 = nn.Sequential(\n",
    "            nn.Conv2d(96, 256, kernel_size=5, padding=2),\n",
    "            nn.BatchNorm2d(32),#change?\n",
    "            nn.ReLU(), #change?\n",
    "            nn.MaxPool2d(3, stride=2))\n",
    "        self.layer3 = nn.Conv2d(256, 384, kernel_size=3, padding=1)\n",
    "        self.layer4 = nn.Conv2d(384, 384, kernel_size=3, padding=1)\n",
    "        self.layer5 = nn.Sequential(\n",
    "            nn.Conv2d(384, 256, kernel_size=3, padding=1),\n",
    "            nn.MaxPool2d(3, stride=2))\n",
    "        self.fc = nn.Linear(7*7*32, 10)\n",
    "        \n",
    "    def forward(self, x):\n",
    "        out = self.layer1(x)\n",
    "        out = self.layer2(out)\n",
    "        out = out.view(out.size(0), -1)\n",
    "        out = self.fc(out)\n",
    "        return out\n",
    "        \n",
    "cnn = CNN()"
   ]
  },
  {
   "cell_type": "code",
   "execution_count": 6,
   "metadata": {
    "collapsed": false
   },
   "outputs": [
    {
     "name": "stdout",
     "output_type": "stream",
     "text": [
      "Epoch [1/5], Iter [100/600] Loss: 0.1569\n",
      "Epoch [1/5], Iter [200/600] Loss: 0.0730\n",
      "Epoch [1/5], Iter [300/600] Loss: 0.0741\n",
      "Epoch [1/5], Iter [400/600] Loss: 0.0320\n",
      "Epoch [1/5], Iter [500/600] Loss: 0.0859\n",
      "Epoch [1/5], Iter [600/600] Loss: 0.0796\n",
      "Epoch [2/5], Iter [100/600] Loss: 0.0473\n",
      "Epoch [2/5], Iter [200/600] Loss: 0.1117\n",
      "Epoch [2/5], Iter [300/600] Loss: 0.0183\n",
      "Epoch [2/5], Iter [400/600] Loss: 0.0444\n",
      "Epoch [2/5], Iter [500/600] Loss: 0.0141\n",
      "Epoch [2/5], Iter [600/600] Loss: 0.0312\n",
      "Epoch [3/5], Iter [100/600] Loss: 0.0197\n",
      "Epoch [3/5], Iter [200/600] Loss: 0.0591\n",
      "Epoch [3/5], Iter [300/600] Loss: 0.0225\n",
      "Epoch [3/5], Iter [400/600] Loss: 0.0204\n",
      "Epoch [3/5], Iter [500/600] Loss: 0.0101\n",
      "Epoch [3/5], Iter [600/600] Loss: 0.0103\n",
      "Epoch [4/5], Iter [100/600] Loss: 0.0459\n",
      "Epoch [4/5], Iter [200/600] Loss: 0.0228\n",
      "Epoch [4/5], Iter [300/600] Loss: 0.0155\n",
      "Epoch [4/5], Iter [400/600] Loss: 0.0095\n",
      "Epoch [4/5], Iter [500/600] Loss: 0.0493\n",
      "Epoch [4/5], Iter [600/600] Loss: 0.0237\n",
      "Epoch [5/5], Iter [100/600] Loss: 0.0045\n",
      "Epoch [5/5], Iter [200/600] Loss: 0.0166\n",
      "Epoch [5/5], Iter [300/600] Loss: 0.0267\n",
      "Epoch [5/5], Iter [400/600] Loss: 0.0053\n",
      "Epoch [5/5], Iter [500/600] Loss: 0.0149\n",
      "Epoch [5/5], Iter [600/600] Loss: 0.0192\n"
     ]
    }
   ],
   "source": [
    "# Loss and Optimizer\n",
    "criterion = nn.CrossEntropyLoss()\n",
    "optimizer = torch.optim.Adam(cnn.parameters(), lr=learning_rate)\n",
    "\n",
    "# Train the Model\n",
    "for epoch in range(num_epochs):\n",
    "    for i, (images, labels) in enumerate(train_loader):\n",
    "        images = Variable(images)\n",
    "        labels = Variable(labels)\n",
    "        \n",
    "        # Forward + Backward + Optimize\n",
    "        optimizer.zero_grad()\n",
    "        outputs = cnn(images)\n",
    "        loss = criterion(outputs, labels)\n",
    "        loss.backward()\n",
    "        optimizer.step()\n",
    "        \n",
    "        if (i+1) % 100 == 0:\n",
    "            print ('Epoch [%d/%d], Iter [%d/%d] Loss: %.4f' \n",
    "                   %(epoch+1, num_epochs, i+1, len(train_dataset)//batch_size, loss.data[0]))"
   ]
  },
  {
   "cell_type": "code",
   "execution_count": 7,
   "metadata": {
    "collapsed": false
   },
   "outputs": [
    {
     "name": "stdout",
     "output_type": "stream",
     "text": [
      "Test Accuracy of the model on the 10000 test images: 98 %\n"
     ]
    }
   ],
   "source": [
    "# Test the Model\n",
    "cnn.eval()  # Change model to 'eval' mode (BN uses moving mean/var).\n",
    "correct = 0\n",
    "total = 0\n",
    "for images, labels in test_loader:\n",
    "    images = Variable(images)\n",
    "    outputs = cnn(images)\n",
    "    _, predicted = torch.max(outputs.data, 1)\n",
    "    total += labels.size(0)\n",
    "    correct += (predicted == labels).sum()\n",
    "\n",
    "print('Test Accuracy of the model on the 10000 test images: %d %%' % (100 * correct / total))"
   ]
  },
  {
   "cell_type": "code",
   "execution_count": null,
   "metadata": {
    "collapsed": true
   },
   "outputs": [],
   "source": [
    "# Extra code:\n",
    "from PIL import Image\n",
    "jpgimage = Image.open('/Users/leighharton/Documents/MSDS/CS_6501/mscoco/COCO_train2014_000000000025.jpg').convert('RGB')\n",
    "type(jpgimage)"
   ]
  }
 ],
 "metadata": {
  "anaconda-cloud": {},
  "kernelspec": {
   "display_name": "Python [Python3]",
   "language": "python",
   "name": "Python [Python3]"
  },
  "language_info": {
   "codemirror_mode": {
    "name": "ipython",
    "version": 3
   },
   "file_extension": ".py",
   "mimetype": "text/x-python",
   "name": "python",
   "nbconvert_exporter": "python",
   "pygments_lexer": "ipython3",
   "version": "3.5.2"
  }
 },
 "nbformat": 4,
 "nbformat_minor": 0
}
